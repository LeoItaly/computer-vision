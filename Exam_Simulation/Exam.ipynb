{
 "cells": [
  {
   "cell_type": "code",
   "execution_count": 2,
   "metadata": {},
   "outputs": [],
   "source": [
    "import sys\n",
    "sys.path.append(r'C:\\Users\\Leuro\\Desktop\\DTU\\Computer Vision\\Exercice')\n",
    "import utilis\n",
    "\n",
    "import cv2 \n",
    "import matplotlib.pyplot as plt\n",
    "import numpy as np\n",
    "import itertools as it\n",
    "from scipy import linalg"
   ]
  },
  {
   "cell_type": "markdown",
   "metadata": {},
   "source": [
    "![alt text](<Question/Screenshot 2024-05-14 090327.png>)"
   ]
  },
  {
   "cell_type": "code",
   "execution_count": 3,
   "metadata": {},
   "outputs": [
    {
     "name": "stdout",
     "output_type": "stream",
     "text": [
      "[[1200    0  400]\n",
      " [   0 1200  350]\n",
      " [   0    0    1]]\n"
     ]
    }
   ],
   "source": [
    "f = 1200\n",
    "px = 400\n",
    "py = 350 \n",
    "alfa = 1\n",
    "beta = 0\n",
    "k3, k5 = 0.01, 0.04\n",
    "\n",
    "K = np.array([[f, f*beta, px],\n",
    "              [0, alfa*f, py],\n",
    "              [0,0,1]])\n",
    "print(K)"
   ]
  },
  {
   "cell_type": "code",
   "execution_count": 4,
   "metadata": {},
   "outputs": [],
   "source": [
    "# Distortion coefficients (assuming radial distortion)\n",
    "# Let's say we have three radial distortion coefficients and two tangential distortion coefficients\n",
    "# dist_coeffs = np.array([k1, k2, p1, p2, k3])  # Example values for k1, k2, p1, p2, k3 need to be provided\n",
    "\n",
    "# # Load an image\n",
    "# img = cv2.imread('path_to_distorted_image.jpg')\n",
    "\n",
    "# # Undistort the image\n",
    "# undistorted_img = cv2.undistort(img, K, dist_coeffs)\n",
    "\n",
    "#cv2.undistort() is used to correct the lens distortion in the image based on the provided camera matrix and distortion coefficients.\n",
    "#the distortion coefficients handle the correction of the lens distortions that are not covered by the linear camera model.\n",
    "# Radial distortion causes straight lines to appear curved."
   ]
  },
  {
   "cell_type": "markdown",
   "metadata": {},
   "source": [
    "![alt text](<Question/Screenshot 2024-05-14 090339.png>)"
   ]
  },
  {
   "cell_type": "code",
   "execution_count": 5,
   "metadata": {},
   "outputs": [
    {
     "data": {
      "text/plain": [
       "array([[500.,   0., 200.],\n",
       "       [  0., 500., 150.],\n",
       "       [  0.,   0.,   1.]])"
      ]
     },
     "execution_count": 5,
     "metadata": {},
     "output_type": "execute_result"
    }
   ],
   "source": [
    "width = 800\n",
    "height = 600\n",
    "new_width = 400\n",
    "new_height = 300\n",
    "\n",
    "scale_factor_width = new_width/width\n",
    "scale_factor_height = new_height/height\n",
    "K = np.array([[1000*scale_factor_width, 0, 400*scale_factor_width],\n",
    "              [0, 1000*scale_factor_height, 300*scale_factor_height],\n",
    "              [0,0,1]])\n",
    "\n",
    "K"
   ]
  },
  {
   "cell_type": "markdown",
   "metadata": {},
   "source": [
    "![alt text](<Question/Screenshot 2024-05-14 090359.png>)"
   ]
  },
  {
   "cell_type": "code",
   "execution_count": 6,
   "metadata": {},
   "outputs": [
    {
     "data": {
      "text/plain": [
       "array([[1023.50377104],\n",
       "       [ 930.29756751]])"
      ]
     },
     "execution_count": 6,
     "metadata": {},
     "output_type": "execute_result"
    }
   ],
   "source": [
    "f = 1720\n",
    "px = 680\n",
    "py = 610.0\n",
    "alfa = 1\n",
    "beta = 0\n",
    "\n",
    "R = cv2.Rodrigues(np.array([-0.1, 0.1,-0.2]))[0]\n",
    "t = np.array([[0.09], [0.05], [0.05]])\n",
    "Q = np.array([[-0.03], [0.01], [0.59]])\n",
    "\n",
    "K = np.array([[f, f*beta, px],\n",
    "              [0, alfa*f, py],\n",
    "              [0,0,1]])\n",
    "\n",
    "q = utilis.projectpoints(K,R,t,Q)\n",
    "q"
   ]
  },
  {
   "cell_type": "markdown",
   "metadata": {},
   "source": [
    "![alt text](<Question/Screenshot 2024-05-14 090413.png>)"
   ]
  },
  {
   "cell_type": "code",
   "execution_count": 7,
   "metadata": {},
   "outputs": [
    {
     "name": "stdout",
     "output_type": "stream",
     "text": [
      "(3, 1)\n",
      "(3, 1)\n"
     ]
    },
    {
     "data": {
      "text/plain": [
       "array([[13.27182907]])"
      ]
     },
     "execution_count": 7,
     "metadata": {},
     "output_type": "execute_result"
    }
   ],
   "source": [
    "K = np.array([[900, 0, 1070], [0, 900, 610.0], [0, 0, 1]], float) \n",
    "R1 = cv2.Rodrigues(np.array([-1.6, 0.3,-2.1]))[0] \n",
    "t1 = np.array([[0.0], [1.0], [3.0]], float) \n",
    "R2 = cv2.Rodrigues(np.array([-0.4,-1.3,-1.6]))[0] \n",
    "t2 = np.array([[0.0], [1.0], [6.0]], float) \n",
    "R3 = cv2.Rodrigues(np.array([2.5, 1.7,-0.4]))[0] \n",
    "t3 = np.array([[2.0], [-7.0], [25.0]], float)\n",
    "\n",
    "q1 = np.array([[1046.0], [453.0]]) \n",
    "q2 = np.array([[1126.0], [671.0]]) \n",
    "q3 = np.array([[1165.0], [453.0]])\n",
    "\n",
    "F12 = utilis.fundamental_matrix(R1,t1,R2,t2,K,K)\n",
    "l  = utilis.epipolar_line(F12, utilis.PiInv(q1))\n",
    "print(l.shape)\n",
    "print(utilis.PiInv(q2).shape)\n",
    "distance_numerator = np.abs(l.T@utilis.PiInv(q2))\n",
    "distance = distance_numerator/(np.sqrt(l[0]**2 + l[1]**2))\n",
    "distance"
   ]
  },
  {
   "cell_type": "markdown",
   "metadata": {},
   "source": [
    "![alt text](<Question/Screenshot 2024-05-14 090430.png>)"
   ]
  },
  {
   "cell_type": "code",
   "execution_count": 8,
   "metadata": {},
   "outputs": [
    {
     "data": {
      "text/plain": [
       "array([[3.10058867],\n",
       "       [0.74321098],\n",
       "       [0.46490561]])"
      ]
     },
     "execution_count": 8,
     "metadata": {},
     "output_type": "execute_result"
    }
   ],
   "source": [
    "P1 = utilis.getProjection_Matrix(K,R1,t1)\n",
    "P2 = utilis.getProjection_Matrix(K,R2,t2)\n",
    "P3 = utilis.getProjection_Matrix(K,R3,t3)\n",
    "\n",
    "q = np.hstack((q1,q2,q3))\n",
    "P = [P1,P2,P3]\n",
    "Q = utilis.triangulate(q,P)\n",
    "Q"
   ]
  },
  {
   "cell_type": "markdown",
   "metadata": {},
   "source": [
    "![alt text](<Question/Screenshot 2024-05-14 090454.png>)"
   ]
  },
  {
   "cell_type": "code",
   "execution_count": 13,
   "metadata": {},
   "outputs": [
    {
     "name": "stdout",
     "output_type": "stream",
     "text": [
      "[[16]]\n"
     ]
    },
    {
     "data": {
      "text/plain": [
       "array([[2.38513918]])"
      ]
     },
     "execution_count": 13,
     "metadata": {},
     "output_type": "execute_result"
    }
   ],
   "source": [
    "q = np.array([[2], [4], [3]])\n",
    "l = np.array([[1], [2], [2]])\n",
    "\n",
    "distance_numerator = np.abs(l.T@q)\n",
    "print(distance_numerator)\n",
    "distance = distance_numerator/(q[2]*(np.sqrt(l[0]**2 + l[1]**2)))\n",
    "distance"
   ]
  },
  {
   "cell_type": "markdown",
   "metadata": {},
   "source": [
    "![alt text](<Question/Screenshot 2024-05-14 090507.png>)"
   ]
  },
  {
   "cell_type": "code",
   "execution_count": 10,
   "metadata": {},
   "outputs": [
    {
     "name": "stdout",
     "output_type": "stream",
     "text": [
      "[[2, 1]]\n"
     ]
    }
   ],
   "source": [
    "harris = np.load(\"Question/harris.npy\", allow_pickle=True).item()\n",
    "harris.keys()\n",
    "\n",
    "Ix_x = harris['g*(I_x^2)']\n",
    "Iy_y = harris['g*(I_y^2)']\n",
    "Ix_y = harris['g*(I_x I_y)']\n",
    "\n",
    "k = 0.06\n",
    "tao = 516\n",
    "\n",
    "C = np.array([[Ix_x, Ix_y],\n",
    "                  [Ix_y, Iy_y]])\n",
    "a = C[0, 0]\n",
    "b = C[1, 1]\n",
    "c = C[0, 1]\n",
    "r = a * b - c**2 - k * (a + b) ** 2\n",
    "\n",
    "c = []\n",
    "for i in range(1, r.shape[0] - 1):\n",
    "    for j in range(1, r.shape[1] - 1):\n",
    "        if (\n",
    "            r[i, j] > r[i + 1, j]\n",
    "            and r[i, j] >= r[i - 1, j]\n",
    "            and r[i, j] > r[i, j + 1]\n",
    "            and r[i, j] >= r[i, j - 1]\n",
    "            and r[i, j] > tao\n",
    "        ):  # Threshold\n",
    "            c.append([i, j])\n",
    "print(c)\n",
    "# corners_index = np.where(r>tao )\n",
    "# coordinates = [(x, y) for x, y in zip(corners_index[0], corners_index[1])]\n",
    "\n",
    "# print(\"Coordinates:\", coordinates)\n"
   ]
  },
  {
   "cell_type": "markdown",
   "metadata": {},
   "source": [
    "![alt text](<Question/Screenshot 2024-05-14 090516.png>)"
   ]
  },
  {
   "cell_type": "code",
   "execution_count": 11,
   "metadata": {},
   "outputs": [
    {
     "data": {
      "text/plain": [
       "34"
      ]
     },
     "execution_count": 11,
     "metadata": {},
     "output_type": "execute_result"
    }
   ],
   "source": [
    "ransac = np.load(\"Question/ransac.npy\", allow_pickle=True).item()\n",
    "ransac.keys()\n",
    "\n",
    "points = ransac['points']\n",
    "x1 = ransac['x1']\n",
    "x2 = ransac['x2']\n",
    "\n",
    "tao = 0.2\n",
    "l = utilis.est_line(x1, x2)\n",
    "inliers = utilis.consensus(l, points, tao)\n",
    "inliers"
   ]
  },
  {
   "cell_type": "markdown",
   "metadata": {},
   "source": [
    "![alt text](<Question/Screenshot 2024-05-14 090524.png>)"
   ]
  },
  {
   "cell_type": "code",
   "execution_count": 12,
   "metadata": {},
   "outputs": [
    {
     "data": {
      "text/plain": [
       "707.5554825030302"
      ]
     },
     "execution_count": 12,
     "metadata": {},
     "output_type": "execute_result"
    }
   ],
   "source": [
    "N = utilis.smallest_number_iterations(404,103, 0.95, 4)\n",
    "N"
   ]
  }
 ],
 "metadata": {
  "kernelspec": {
   "display_name": "Computer_Vision",
   "language": "python",
   "name": "python3"
  },
  "language_info": {
   "codemirror_mode": {
    "name": "ipython",
    "version": 3
   },
   "file_extension": ".py",
   "mimetype": "text/x-python",
   "name": "python",
   "nbconvert_exporter": "python",
   "pygments_lexer": "ipython3",
   "version": "3.12.1"
  }
 },
 "nbformat": 4,
 "nbformat_minor": 2
}
