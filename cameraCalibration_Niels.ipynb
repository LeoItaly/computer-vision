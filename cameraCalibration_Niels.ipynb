{
 "cells": [
  {
   "cell_type": "code",
   "execution_count": 11,
   "metadata": {},
   "outputs": [
    {
     "name": "stdout",
     "output_type": "stream",
     "text": [
      "[[ 0.  0.  0.]\n",
      " [ 1.  0.  0.]\n",
      " [ 2.  0.  0.]\n",
      " ...\n",
      " [21. 16.  0.]\n",
      " [22. 16.  0.]\n",
      " [23. 16.  0.]]\n",
      "Corners found in image: 408\n",
      "Corners found in image: 408\n",
      "Corners found in image: 408\n",
      "Corners found in image: 408\n",
      "Corners found in image: 408\n",
      "Corners found in image: 408\n",
      "Corners found in image: 408\n",
      "Corners found in image: 408\n",
      "Corners found in image: 408\n",
      "Corners found in image: 408\n",
      "Corners found in image: 408\n",
      "Corners found in image: 408\n",
      "Corners found in image: 408\n"
     ]
    }
   ],
   "source": [
    "import numpy as np\n",
    "import cv2 as cv\n",
    "import glob\n",
    "\n",
    "\n",
    "\n",
    "################ FIND CHESSBOARD CORNERS - OBJECT POINTS AND IMAGE POINTS #############################\n",
    "\n",
    "chessboardSize = (24,17)\n",
    "frameSize = (600,400)\n",
    "\n",
    "\n",
    "\n",
    "# termination criteria\n",
    "criteria = (cv.TERM_CRITERIA_EPS + cv.TERM_CRITERIA_MAX_ITER, 30, 0.001)\n",
    "\n",
    "\n",
    "# prepare object points, like (0,0,0), (1,0,0), (2,0,0) ....,(6,5,0)\n",
    "objp = np.zeros((chessboardSize[0] * chessboardSize[1], 3), np.float32)\n",
    "objp[:,:2] = np.mgrid[0:chessboardSize[0],0:chessboardSize[1]].T.reshape(-1,2)\n",
    "print(objp)\n",
    "size_of_chessboard_squares_mm = 20\n",
    "objp = objp * size_of_chessboard_squares_mm\n",
    "\n",
    "\n",
    "# Arrays to store object points and image points from all the images.\n",
    "objpoints = [] # 3d point in real world space\n",
    "imgpoints = [] # 2d points in image plane.\n",
    "\n",
    "\n",
    "images = glob.glob('images/chessboards/*.png')\n",
    "\n",
    "for image in images:\n",
    "\n",
    "    img = cv.imread(image)\n",
    "    gray = cv.cvtColor(img, cv.COLOR_BGR2GRAY)\n",
    "\n",
    "    # Find the chess board corners\n",
    "    ret, corners = cv.findChessboardCorners(gray, chessboardSize, None)\n",
    "\n",
    "    # If found, add object points, image points (after refining them)\n",
    "    if ret == True:\n",
    "\n",
    "        objpoints.append(objp)\n",
    "        # corners2 = cv.cornerSubPix(gray, corners, (11,11), (-1,-1), criteria)\n",
    "        imgpoints.append(corners)\n",
    "        # Print the number of corners found\n",
    "        print(f\"Corners found in image: {len(corners)}\")\n",
    "\n",
    "        # Draw and display the corners\n",
    "        cv.drawChessboardCorners(img, chessboardSize, corners, ret)\n",
    "        cv.imshow('img', img)\n",
    "        cv.waitKey(300)\n",
    "    else:\n",
    "        print('Not found')\n",
    "\n",
    "\n",
    "cv.destroyAllWindows()\n",
    "\n",
    "\n"
   ]
  },
  {
   "cell_type": "markdown",
   "metadata": {},
   "source": [
    "#### What is objp?\n",
    "*objp* is an array containing the 3D world coordinates of the corners in the chessboard used for calibration. It's used to map the chessboard corners in the real world to the image plane detected by cv.findChessboardCorners.\n",
    "\n",
    "Computation of *objp*:\n",
    "Initialization: The array is initialized to have a size where the first dimension is equal to the total number of corners (product of chessboard dimensions minus one on each side, but in this code, you seem to be using the full grid dimensions chessboardSize, which suggests the use of an intersection points grid rather than an inner corners grid).\n",
    "\n",
    "```python\n",
    "    objp = np.zeros((chessboardSize[0] * chessboardSize[1], 3), np.float32)\n",
    "```\n",
    "This creates a flat list to store coordinates for each corner, initialized to zeros.\n",
    "\n",
    "Grid Coordinates Setup: The numpy.mgrid function generates a mesh grid which is then used to set the x and y coordinates. This is reshaped to fit the first two columns of objp, essentially assigning each corner a coordinate in this grid:\n",
    "\n",
    "```python\n",
    "objp[:, :2] = np.mgrid[0:chessboardSize[0], 0:chessboardSize[1]].T.reshape(-1, 2)\n",
    "```\n",
    "Here, np.mgrid creates two 2D arrays for x (rows) and y (columns) coordinates that correspond to the indices of the grid (i.e., 0, 1, 2, ..., N where N is one less than the number of squares along each dimension of the chessboard). .T transposes the arrays so that coordinates line up correctly in the reshape call, which flattens them into a two-column matrix for all points.\n",
    "\n",
    "Scale by Physical Size: Finally, each coordinate is scaled by size_of_chessboard_squares_mm, which represents the physical size of each square on the chessboard:\n",
    "\n",
    "```python\n",
    "objp = objp * size_of_chessboard_squares_mm\n",
    "```\n",
    "This multiplication scales the grid so that the distances between points reflect the actual size of the chessboard squares in millimeters. The z-coordinate remains zero, assuming the chessboard is flat on a surface."
   ]
  },
  {
   "cell_type": "code",
   "execution_count": 12,
   "metadata": {},
   "outputs": [
    {
     "name": "stdout",
     "output_type": "stream",
     "text": [
      "[[-2.43197723e-01  1.32016607e-01  7.87084956e-04  1.35990754e-04\n",
      "  -5.18071839e-02]]\n"
     ]
    }
   ],
   "source": [
    "\n",
    "############## CALIBRATION #######################################################\n",
    "ret, cameraMatrix, dist, rvecs, tvecs = cv.calibrateCamera(objpoints, imgpoints, frameSize, None, None)\n",
    "print(dist)"
   ]
  },
  {
   "cell_type": "code",
   "execution_count": 13,
   "metadata": {},
   "outputs": [],
   "source": [
    "############## UNDISTORTION #####################################################\n",
    "\n",
    "img = cv.imread('images/chessboards/Image__2018-10-05__10-30-50.png')\n",
    "h,  w = img.shape[:2]\n",
    "newCameraMatrix, roi = cv.getOptimalNewCameraMatrix(cameraMatrix, dist, (w,h), 1, (w,h))\n",
    "\n",
    "\n",
    "\n",
    "# Undistort\n",
    "dst = cv.undistort(img, cameraMatrix, dist, None, newCameraMatrix)\n",
    "\n",
    "# crop the image\n",
    "x, y, w, h = roi\n",
    "dst = dst[y:y+h, x:x+w]\n",
    "cv.imshow('img', dst)\n",
    "cv.waitKey(400)\n",
    "cv.destroyAllWindows()\n"
   ]
  },
  {
   "cell_type": "code",
   "execution_count": 14,
   "metadata": {},
   "outputs": [],
   "source": [
    "# Undistort with Remapping\n",
    "mapx, mapy = cv.initUndistortRectifyMap(cameraMatrix, dist, None, newCameraMatrix, (w,h), 5)\n",
    "dst = cv.remap(img, mapx, mapy, cv.INTER_LINEAR)\n",
    "\n",
    "# crop the image\n",
    "x, y, w, h = roi\n",
    "dst = dst[y:y+h, x:x+w]\n",
    "\n",
    "cv.imshow('img', dst)\n",
    "cv.waitKey(400)\n",
    "cv.destroyAllWindows()\n",
    "\n"
   ]
  },
  {
   "cell_type": "code",
   "execution_count": 16,
   "metadata": {},
   "outputs": [
    {
     "name": "stdout",
     "output_type": "stream",
     "text": [
      "13\n",
      "total error: 0.018073245696731074\n"
     ]
    }
   ],
   "source": [
    "# Reprojection Error\n",
    "mean_error = 0\n",
    "\n",
    "for i in range(len(objpoints)):\n",
    "    imgpoints2, _ = cv.projectPoints(objpoints[i], rvecs[i], tvecs[i], cameraMatrix, dist)\n",
    "    error = cv.norm(imgpoints[i], imgpoints2, cv.NORM_L2)/len(imgpoints2)\n",
    "    mean_error += error\n",
    "print(len(objpoints))\n",
    "print( \"total error: {}\".format(mean_error/len(objpoints)) )"
   ]
  }
 ],
 "metadata": {
  "kernelspec": {
   "display_name": "Computer_Vision",
   "language": "python",
   "name": "python3"
  },
  "language_info": {
   "codemirror_mode": {
    "name": "ipython",
    "version": 3
   },
   "file_extension": ".py",
   "mimetype": "text/x-python",
   "name": "python",
   "nbconvert_exporter": "python",
   "pygments_lexer": "ipython3",
   "version": "3.12.1"
  }
 },
 "nbformat": 4,
 "nbformat_minor": 2
}
