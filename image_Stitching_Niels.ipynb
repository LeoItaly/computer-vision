{
 "cells": [
  {
   "cell_type": "code",
   "execution_count": 1,
   "metadata": {},
   "outputs": [],
   "source": [
    "import numpy as np\n",
    "import matplotlib.pyplot as plt\n",
    "import cv2\n",
    "from tqdm import tqdm\n",
    "import math\n",
    "import glob\n",
    "import imutils"
   ]
  },
  {
   "cell_type": "code",
   "execution_count": 2,
   "metadata": {},
   "outputs": [],
   "source": [
    "im1 = cv2.imread('images/im1.jpg')\n",
    "im2 = cv2.imread('images/im2.jpg')\n",
    "\n",
    "images = []\n",
    "images.append(im1)\n",
    "images.append(im2)\n",
    "for image in images:\n",
    "    cv2.imshow('Image', image)\n",
    "    cv2.waitKey(0)\n",
    "\n",
    "imageStitcher = cv2.Stitcher_create()\n",
    "\n",
    "error, stitched_img = imageStitcher.stitch(images)\n"
   ]
  },
  {
   "cell_type": "code",
   "execution_count": 3,
   "metadata": {},
   "outputs": [],
   "source": [
    "if not error:\n",
    "    cv2.imshow('StitchedImage', stitched_img)\n",
    "    cv2.waitKey(0)\n",
    "    stitched_img = cv2.copyMakeBorder(stitched_img, 10, 10, 10, 10, cv2.BORDER_CONSTANT, (0,0,0))\n",
    "\n",
    "    gray = cv2.cvtColor(stitched_img, cv2.COLOR_BGR2GRAY)\n",
    "    thresh_img = cv2.threshold(gray, 0, 255 , cv2.THRESH_BINARY)[1]\n",
    "\n",
    "    cv2.imshow(\"Threshold Image\", thresh_img)\n",
    "    cv2.waitKey(0)\n",
    "\n",
    "    contours = cv2.findContours(thresh_img.copy(), cv2.RETR_EXTERNAL, cv2.CHAIN_APPROX_SIMPLE)\n",
    "\n",
    "    contours = imutils.grab_contours(contours)\n",
    "    areaOI = max(contours, key=cv2.contourArea)\n",
    "\n",
    "    mask = np.zeros(thresh_img.shape, dtype=\"uint8\")\n",
    "    x, y, w, h = cv2.boundingRect(areaOI)\n",
    "    cv2.rectangle(mask, (x,y), (x + w, y + h), 255, -1)\n",
    "\n",
    "    minRectangle = mask.copy()\n",
    "    sub = mask.copy()\n",
    "\n",
    "    while cv2.countNonZero(sub) > 0:\n",
    "        minRectangle = cv2.erode(minRectangle, None)\n",
    "        sub = cv2.subtract(minRectangle, thresh_img)\n",
    "\n",
    "\n",
    "    contours = cv2.findContours(minRectangle.copy(), cv2.RETR_EXTERNAL, cv2.CHAIN_APPROX_SIMPLE)\n",
    "\n",
    "    contours = imutils.grab_contours(contours)\n",
    "    areaOI = max(contours, key=cv2.contourArea)\n",
    "\n",
    "    cv2.imshow(\"minRectangle Image\", minRectangle)\n",
    "    cv2.waitKey(0)\n",
    "\n",
    "    x, y, w, h = cv2.boundingRect(areaOI)\n",
    "\n",
    "    stitched_img = stitched_img[y:y + h, x:x + w]\n",
    "\n",
    "\n",
    "    cv2.imshow(\"Stitched Image Processed\", stitched_img)\n",
    "\n",
    "    cv2.waitKey(0)\n",
    "\n",
    "\n",
    "\n",
    "else:\n",
    "    print(\"Images could not be stitched!\")\n",
    "    print(\"Likely not enough keypoints being detected!\")"
   ]
  }
 ],
 "metadata": {
  "kernelspec": {
   "display_name": "Computer_Vision",
   "language": "python",
   "name": "python3"
  },
  "language_info": {
   "codemirror_mode": {
    "name": "ipython",
    "version": 3
   },
   "file_extension": ".py",
   "mimetype": "text/x-python",
   "name": "python",
   "nbconvert_exporter": "python",
   "pygments_lexer": "ipython3",
   "version": "3.12.1"
  }
 },
 "nbformat": 4,
 "nbformat_minor": 2
}
